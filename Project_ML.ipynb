{
 "cells": [
  {
   "cell_type": "markdown",
   "metadata": {},
   "source": [
    "# Disease Prediction based on Symtoms"
   ]
  },
  {
   "cell_type": "code",
   "execution_count": 1,
   "metadata": {},
   "outputs": [],
   "source": [
    "#Importing Libraries\n",
    "from mpl_toolkits.mplot3d import Axes3D\n",
    "from sklearn.preprocessing import StandardScaler\n",
    "import matplotlib.pyplot as plt\n",
    "from tkinter import *\n",
    "from tkinter import ttk\n",
    "import numpy as np\n",
    "import pandas as pd\n",
    "#import streamlit as st\n",
    "import os"
   ]
  },
  {
   "cell_type": "code",
   "execution_count": 2,
   "metadata": {},
   "outputs": [],
   "source": [
    "#pip install --upgrade --user pyqt5==5.12"
   ]
  },
  {
   "cell_type": "code",
   "execution_count": 3,
   "metadata": {},
   "outputs": [],
   "source": [
    "#pip install --upgrade --user pyqtwebengine==5.12"
   ]
  },
  {
   "cell_type": "code",
   "execution_count": 4,
   "metadata": {},
   "outputs": [],
   "source": [
    "#pip install voila"
   ]
  },
  {
   "cell_type": "code",
   "execution_count": 5,
   "metadata": {},
   "outputs": [],
   "source": [
    "#List of the symptoms is listed here in list l1.\n",
    "\n",
    "l1 = ['itching', 'skin_rash','nodal_skin_eruptions','continuous_sneezing','shivering','chills',\n",
    "      'crying while touching joints','crying while touching stomach','acidity','crying when head touched',\n",
    "     'premature birth','crying when back eyes area touched','crying while touching back','crying while touching abdomin',\n",
    "     'crying while touching chest','crying during bowel movements','crying while touching  knee','crying while touching hip joint',\n",
    "     'muscle_weakness','muscle_wasting','crying while touching body part','crying while touching belly',\n",
    "     'irritability','Spinal Injury','red_spots_over_body','poor feeding','skin patches','watering_from_eyes',\n",
    "     'increased_appetite','frequent urination','crying while touching belly button','coated tongue','hoarse cry',\n",
    "     'large soft spot (fontanel) on head','nausea','complicated umbilical artery catheter','ulcers_on_tongue',\n",
    "     'vomiting','painful urination','fatigue','weight_gain','cold_hands_and_feets',\n",
    "     'weight_loss','restlessness','lethargy','patches_in_throat','irregular_sugar_level','cough','high_fever','sunken_eyes',\n",
    "     'breathlessness','sweating','dehydration','indigestion','yellowish_skin','dark_urine','loss_of_appetite','constipation',\n",
    "     'diarrhoea','mild_fever','yellow_urine','yellowing_of_eyes','acute_liver_failure','swelled_lymph_nodes','blurred_and_distorted_vision',\n",
    "     'phlegm','throat_irritation','redness_of_eyes','sinus_pressure','runny_nose','congestion','weakness_in_limbs','fast_heart_rate',\n",
    "     'bloody_stool','crying while touching neck','dizziness','bruising','swollen_legs','swollen_blood_vessels','puffy_face_and_eyes',\n",
    "     'enlarged_thyroid','brittle_nails','swollen_extremeties','excessive_hunger','infected mother',\n",
    "     'stiff_neck','swelling_joints','movement_stiffness','spinning_movements','loss_of_balance','unsteadiness',\n",
    "     'weakness_of_one_body_side','bladder_discomfort','foul_smell_of urine','continuous_feel_of_urine','passage_of_gases',\n",
    "     'family_history','mucoid_sputum','rusty_sputum','receiving_blood_transfusion','receiving_unsterile_injections',\n",
    "     'coma','blood_in_sputum','prominent_veins_on_calf','palpitations','painful_walking','skin_peeling','silver_like_dusting',\n",
    "     'small_dents_in_nails','inflammatory_nails','blister','red_sore_around_nose','yellow_crust_ooze']"
   ]
  },
  {
   "cell_type": "code",
   "execution_count": 6,
   "metadata": {},
   "outputs": [],
   "source": [
    "#List of Diseases is listed in list disease.\n",
    "\n",
    "disease = ['(vertigo) Paroymsal  Positional Vertigo','AIDS','Allergy','Arthritis','Bronchial Asthma',\n",
    "           'Cervical spondylosis','Chicken pox','Chronic cholestasis','Common Cold','Conjuctivitis',\n",
    "           'Corona','Dengue','Diabetes','Dimorphic hemmorhoids(piles)','Diaper Rash','Drug Reaction'\n",
    "           'Gastroenteritis','GERD / Acid Reflux','Heart attack','Hepatitis B','hepatitis A','Hypertension',\n",
    "           'Paralysis (brain hemorrhage)','Jaundice','Malaria','Typhoid','Hepatitis C','Hepatitis D',\n",
    "           'Hepatitis E','Tuberculosis','Pneumonia','Varicose veins','Hypothyroidism','Hyperthyroidism'\n",
    "           'Hypoglycemia','Osteoarthristis','Urinary tract infection','Psoriasis','Impetigo']"
   ]
  },
  {
   "cell_type": "code",
   "execution_count": 7,
   "metadata": {
    "scrolled": true
   },
   "outputs": [],
   "source": [
    "l2=[]\n",
    "for i in range(0,len(l1)):\n",
    "    l2.append(0)\n",
    "#print(l2)"
   ]
  },
  {
   "cell_type": "code",
   "execution_count": 8,
   "metadata": {},
   "outputs": [
    {
     "data": {
      "text/plain": [
       "list"
      ]
     },
     "execution_count": 8,
     "metadata": {},
     "output_type": "execute_result"
    }
   ],
   "source": [
    "type(disease)"
   ]
  },
  {
   "cell_type": "code",
   "execution_count": 9,
   "metadata": {},
   "outputs": [
    {
     "data": {
      "text/html": [
       "<div>\n",
       "<style scoped>\n",
       "    .dataframe tbody tr th:only-of-type {\n",
       "        vertical-align: middle;\n",
       "    }\n",
       "\n",
       "    .dataframe tbody tr th {\n",
       "        vertical-align: top;\n",
       "    }\n",
       "\n",
       "    .dataframe thead th {\n",
       "        text-align: right;\n",
       "    }\n",
       "</style>\n",
       "<table border=\"1\" class=\"dataframe\">\n",
       "  <thead>\n",
       "    <tr style=\"text-align: right;\">\n",
       "      <th></th>\n",
       "      <th>itching</th>\n",
       "      <th>skin_rash</th>\n",
       "      <th>nodal_skin_eruptions</th>\n",
       "      <th>continuous_sneezing</th>\n",
       "      <th>shivering</th>\n",
       "      <th>chills</th>\n",
       "      <th>crying while touching joints</th>\n",
       "      <th>crying while touching stomach</th>\n",
       "      <th>acidity</th>\n",
       "      <th>crying when head touched</th>\n",
       "      <th>...</th>\n",
       "      <th>prominent_veins_on_calf</th>\n",
       "      <th>palpitations</th>\n",
       "      <th>painful_walking</th>\n",
       "      <th>skin_peeling</th>\n",
       "      <th>silver_like_dusting</th>\n",
       "      <th>small_dents_in_nails</th>\n",
       "      <th>inflammatory_nails</th>\n",
       "      <th>blister</th>\n",
       "      <th>red_sore_around_nose</th>\n",
       "      <th>yellow_crust_ooze</th>\n",
       "    </tr>\n",
       "    <tr>\n",
       "      <th>prognosis</th>\n",
       "      <th></th>\n",
       "      <th></th>\n",
       "      <th></th>\n",
       "      <th></th>\n",
       "      <th></th>\n",
       "      <th></th>\n",
       "      <th></th>\n",
       "      <th></th>\n",
       "      <th></th>\n",
       "      <th></th>\n",
       "      <th></th>\n",
       "      <th></th>\n",
       "      <th></th>\n",
       "      <th></th>\n",
       "      <th></th>\n",
       "      <th></th>\n",
       "      <th></th>\n",
       "      <th></th>\n",
       "      <th></th>\n",
       "      <th></th>\n",
       "      <th></th>\n",
       "    </tr>\n",
       "  </thead>\n",
       "  <tbody>\n",
       "    <tr>\n",
       "      <th>Diaper Rash</th>\n",
       "      <td>1</td>\n",
       "      <td>1</td>\n",
       "      <td>1</td>\n",
       "      <td>0</td>\n",
       "      <td>0</td>\n",
       "      <td>0</td>\n",
       "      <td>0</td>\n",
       "      <td>0</td>\n",
       "      <td>0</td>\n",
       "      <td>0</td>\n",
       "      <td>...</td>\n",
       "      <td>0</td>\n",
       "      <td>0</td>\n",
       "      <td>0</td>\n",
       "      <td>0</td>\n",
       "      <td>0</td>\n",
       "      <td>0</td>\n",
       "      <td>0</td>\n",
       "      <td>0</td>\n",
       "      <td>0</td>\n",
       "      <td>0</td>\n",
       "    </tr>\n",
       "    <tr>\n",
       "      <th>Diaper Rash</th>\n",
       "      <td>0</td>\n",
       "      <td>1</td>\n",
       "      <td>1</td>\n",
       "      <td>0</td>\n",
       "      <td>0</td>\n",
       "      <td>0</td>\n",
       "      <td>0</td>\n",
       "      <td>0</td>\n",
       "      <td>0</td>\n",
       "      <td>0</td>\n",
       "      <td>...</td>\n",
       "      <td>0</td>\n",
       "      <td>0</td>\n",
       "      <td>0</td>\n",
       "      <td>0</td>\n",
       "      <td>0</td>\n",
       "      <td>0</td>\n",
       "      <td>0</td>\n",
       "      <td>0</td>\n",
       "      <td>0</td>\n",
       "      <td>0</td>\n",
       "    </tr>\n",
       "    <tr>\n",
       "      <th>Diaper Rash</th>\n",
       "      <td>1</td>\n",
       "      <td>0</td>\n",
       "      <td>1</td>\n",
       "      <td>0</td>\n",
       "      <td>0</td>\n",
       "      <td>0</td>\n",
       "      <td>0</td>\n",
       "      <td>0</td>\n",
       "      <td>0</td>\n",
       "      <td>0</td>\n",
       "      <td>...</td>\n",
       "      <td>0</td>\n",
       "      <td>0</td>\n",
       "      <td>0</td>\n",
       "      <td>0</td>\n",
       "      <td>0</td>\n",
       "      <td>0</td>\n",
       "      <td>0</td>\n",
       "      <td>0</td>\n",
       "      <td>0</td>\n",
       "      <td>0</td>\n",
       "    </tr>\n",
       "    <tr>\n",
       "      <th>Diaper Rash</th>\n",
       "      <td>1</td>\n",
       "      <td>1</td>\n",
       "      <td>0</td>\n",
       "      <td>0</td>\n",
       "      <td>0</td>\n",
       "      <td>0</td>\n",
       "      <td>0</td>\n",
       "      <td>0</td>\n",
       "      <td>0</td>\n",
       "      <td>0</td>\n",
       "      <td>...</td>\n",
       "      <td>0</td>\n",
       "      <td>0</td>\n",
       "      <td>0</td>\n",
       "      <td>0</td>\n",
       "      <td>0</td>\n",
       "      <td>0</td>\n",
       "      <td>0</td>\n",
       "      <td>0</td>\n",
       "      <td>0</td>\n",
       "      <td>0</td>\n",
       "    </tr>\n",
       "    <tr>\n",
       "      <th>Diaper Rash</th>\n",
       "      <td>1</td>\n",
       "      <td>1</td>\n",
       "      <td>1</td>\n",
       "      <td>0</td>\n",
       "      <td>0</td>\n",
       "      <td>0</td>\n",
       "      <td>0</td>\n",
       "      <td>0</td>\n",
       "      <td>0</td>\n",
       "      <td>0</td>\n",
       "      <td>...</td>\n",
       "      <td>0</td>\n",
       "      <td>0</td>\n",
       "      <td>0</td>\n",
       "      <td>0</td>\n",
       "      <td>0</td>\n",
       "      <td>0</td>\n",
       "      <td>0</td>\n",
       "      <td>0</td>\n",
       "      <td>0</td>\n",
       "      <td>0</td>\n",
       "    </tr>\n",
       "  </tbody>\n",
       "</table>\n",
       "<p>5 rows × 114 columns</p>\n",
       "</div>"
      ],
      "text/plain": [
       "             itching  skin_rash  nodal_skin_eruptions  continuous_sneezing  \\\n",
       "prognosis                                                                    \n",
       "Diaper Rash        1          1                     1                    0   \n",
       "Diaper Rash        0          1                     1                    0   \n",
       "Diaper Rash        1          0                     1                    0   \n",
       "Diaper Rash        1          1                     0                    0   \n",
       "Diaper Rash        1          1                     1                    0   \n",
       "\n",
       "             shivering  chills  crying while touching joints  \\\n",
       "prognosis                                                      \n",
       "Diaper Rash          0       0                             0   \n",
       "Diaper Rash          0       0                             0   \n",
       "Diaper Rash          0       0                             0   \n",
       "Diaper Rash          0       0                             0   \n",
       "Diaper Rash          0       0                             0   \n",
       "\n",
       "             crying while touching stomach  acidity  crying when head touched  \\\n",
       "prognosis                                                                       \n",
       "Diaper Rash                              0        0                         0   \n",
       "Diaper Rash                              0        0                         0   \n",
       "Diaper Rash                              0        0                         0   \n",
       "Diaper Rash                              0        0                         0   \n",
       "Diaper Rash                              0        0                         0   \n",
       "\n",
       "             ...  prominent_veins_on_calf  palpitations  painful_walking  \\\n",
       "prognosis    ...                                                           \n",
       "Diaper Rash  ...                        0             0                0   \n",
       "Diaper Rash  ...                        0             0                0   \n",
       "Diaper Rash  ...                        0             0                0   \n",
       "Diaper Rash  ...                        0             0                0   \n",
       "Diaper Rash  ...                        0             0                0   \n",
       "\n",
       "             skin_peeling  silver_like_dusting  small_dents_in_nails  \\\n",
       "prognosis                                                              \n",
       "Diaper Rash             0                    0                     0   \n",
       "Diaper Rash             0                    0                     0   \n",
       "Diaper Rash             0                    0                     0   \n",
       "Diaper Rash             0                    0                     0   \n",
       "Diaper Rash             0                    0                     0   \n",
       "\n",
       "             inflammatory_nails  blister  red_sore_around_nose  \\\n",
       "prognosis                                                        \n",
       "Diaper Rash                   0        0                     0   \n",
       "Diaper Rash                   0        0                     0   \n",
       "Diaper Rash                   0        0                     0   \n",
       "Diaper Rash                   0        0                     0   \n",
       "Diaper Rash                   0        0                     0   \n",
       "\n",
       "             yellow_crust_ooze  \n",
       "prognosis                       \n",
       "Diaper Rash                  0  \n",
       "Diaper Rash                  0  \n",
       "Diaper Rash                  0  \n",
       "Diaper Rash                  0  \n",
       "Diaper Rash                  0  \n",
       "\n",
       "[5 rows x 114 columns]"
      ]
     },
     "execution_count": 9,
     "metadata": {},
     "output_type": "execute_result"
    }
   ],
   "source": [
    "#Reading the training .csv file\n",
    "#df=pd.read_csv(\"training.csv\")\n",
    "df=pd.read_csv(\"Training_Prakriti.csv\")\n",
    "#DF= pd.read_csv('training.csv', index_col='prognosis')\n",
    "DF= pd.read_csv('Training_Prakriti.csv', index_col='prognosis')\n",
    "#Replace the values in the imported file by pandas by the inbuilt function replace in pandas.\n",
    "\n",
    "df.replace({'prognosis':{'(vertigo) Paroymsal  Positional Vertigo':0,'AIDS':1,'Allergy':2,'Arthritis':3,'Bronchial Asthma':4,\n",
    "    'Cervical spondylosis':5,'Chicken pox':6,'Chronic cholestasis':7,'Common Cold':8,'Conjuctivitis':9,'Corona':10,\n",
    "    'Dengue':11,'Diabetes ':12, 'Dimorphic hemmorhoids(piles)':13,'Diaper Rash':14,'Drug Reaction':15,'Gastroenteritis':16,'GERD / Acid Reflux':17,'Heart attack':18,'Hepatitis B':19,\n",
    "    'hepatitis A':20,'Paralysis (brain hemorrhage)':21,'Jaundice':22,'Malaria':23,'Typhoid':24,'Hepatitis C':25,\n",
    "    'Hepatitis D':26,'Hepatitis E':27,'Tuberculosis':28,'Pneumonia':29,'Varicose veins':30,'Hypothyroidism':31,\n",
    "    'Hyperthyroidism':32,'Hypoglycemia':33,'Osteoarthristis':34,'Urinary tract infection':35,\n",
    "    'Psoriasis':36,'Impetigo':37,'Hypertension':38}},inplace=True)\n",
    "\n",
    "#df.head()\n",
    "DF.head()"
   ]
  },
  {
   "cell_type": "code",
   "execution_count": 10,
   "metadata": {},
   "outputs": [
    {
     "data": {
      "text/html": [
       "<div>\n",
       "<style scoped>\n",
       "    .dataframe tbody tr th:only-of-type {\n",
       "        vertical-align: middle;\n",
       "    }\n",
       "\n",
       "    .dataframe tbody tr th {\n",
       "        vertical-align: top;\n",
       "    }\n",
       "\n",
       "    .dataframe thead th {\n",
       "        text-align: right;\n",
       "    }\n",
       "</style>\n",
       "<table border=\"1\" class=\"dataframe\">\n",
       "  <thead>\n",
       "    <tr style=\"text-align: right;\">\n",
       "      <th></th>\n",
       "      <th>itching</th>\n",
       "      <th>skin_rash</th>\n",
       "      <th>nodal_skin_eruptions</th>\n",
       "      <th>continuous_sneezing</th>\n",
       "      <th>shivering</th>\n",
       "      <th>chills</th>\n",
       "      <th>crying while touching joints</th>\n",
       "      <th>crying while touching stomach</th>\n",
       "      <th>acidity</th>\n",
       "      <th>crying when head touched</th>\n",
       "      <th>...</th>\n",
       "      <th>palpitations</th>\n",
       "      <th>painful_walking</th>\n",
       "      <th>skin_peeling</th>\n",
       "      <th>silver_like_dusting</th>\n",
       "      <th>small_dents_in_nails</th>\n",
       "      <th>inflammatory_nails</th>\n",
       "      <th>blister</th>\n",
       "      <th>red_sore_around_nose</th>\n",
       "      <th>yellow_crust_ooze</th>\n",
       "      <th>prognosis</th>\n",
       "    </tr>\n",
       "  </thead>\n",
       "  <tbody>\n",
       "    <tr>\n",
       "      <th>0</th>\n",
       "      <td>1</td>\n",
       "      <td>1</td>\n",
       "      <td>1</td>\n",
       "      <td>0</td>\n",
       "      <td>0</td>\n",
       "      <td>0</td>\n",
       "      <td>0</td>\n",
       "      <td>0</td>\n",
       "      <td>0</td>\n",
       "      <td>0</td>\n",
       "      <td>...</td>\n",
       "      <td>0</td>\n",
       "      <td>0</td>\n",
       "      <td>0</td>\n",
       "      <td>0</td>\n",
       "      <td>0</td>\n",
       "      <td>0</td>\n",
       "      <td>0</td>\n",
       "      <td>0</td>\n",
       "      <td>0</td>\n",
       "      <td>14</td>\n",
       "    </tr>\n",
       "    <tr>\n",
       "      <th>1</th>\n",
       "      <td>0</td>\n",
       "      <td>1</td>\n",
       "      <td>1</td>\n",
       "      <td>0</td>\n",
       "      <td>0</td>\n",
       "      <td>0</td>\n",
       "      <td>0</td>\n",
       "      <td>0</td>\n",
       "      <td>0</td>\n",
       "      <td>0</td>\n",
       "      <td>...</td>\n",
       "      <td>0</td>\n",
       "      <td>0</td>\n",
       "      <td>0</td>\n",
       "      <td>0</td>\n",
       "      <td>0</td>\n",
       "      <td>0</td>\n",
       "      <td>0</td>\n",
       "      <td>0</td>\n",
       "      <td>0</td>\n",
       "      <td>14</td>\n",
       "    </tr>\n",
       "    <tr>\n",
       "      <th>2</th>\n",
       "      <td>1</td>\n",
       "      <td>0</td>\n",
       "      <td>1</td>\n",
       "      <td>0</td>\n",
       "      <td>0</td>\n",
       "      <td>0</td>\n",
       "      <td>0</td>\n",
       "      <td>0</td>\n",
       "      <td>0</td>\n",
       "      <td>0</td>\n",
       "      <td>...</td>\n",
       "      <td>0</td>\n",
       "      <td>0</td>\n",
       "      <td>0</td>\n",
       "      <td>0</td>\n",
       "      <td>0</td>\n",
       "      <td>0</td>\n",
       "      <td>0</td>\n",
       "      <td>0</td>\n",
       "      <td>0</td>\n",
       "      <td>14</td>\n",
       "    </tr>\n",
       "    <tr>\n",
       "      <th>3</th>\n",
       "      <td>1</td>\n",
       "      <td>1</td>\n",
       "      <td>0</td>\n",
       "      <td>0</td>\n",
       "      <td>0</td>\n",
       "      <td>0</td>\n",
       "      <td>0</td>\n",
       "      <td>0</td>\n",
       "      <td>0</td>\n",
       "      <td>0</td>\n",
       "      <td>...</td>\n",
       "      <td>0</td>\n",
       "      <td>0</td>\n",
       "      <td>0</td>\n",
       "      <td>0</td>\n",
       "      <td>0</td>\n",
       "      <td>0</td>\n",
       "      <td>0</td>\n",
       "      <td>0</td>\n",
       "      <td>0</td>\n",
       "      <td>14</td>\n",
       "    </tr>\n",
       "    <tr>\n",
       "      <th>4</th>\n",
       "      <td>1</td>\n",
       "      <td>1</td>\n",
       "      <td>1</td>\n",
       "      <td>0</td>\n",
       "      <td>0</td>\n",
       "      <td>0</td>\n",
       "      <td>0</td>\n",
       "      <td>0</td>\n",
       "      <td>0</td>\n",
       "      <td>0</td>\n",
       "      <td>...</td>\n",
       "      <td>0</td>\n",
       "      <td>0</td>\n",
       "      <td>0</td>\n",
       "      <td>0</td>\n",
       "      <td>0</td>\n",
       "      <td>0</td>\n",
       "      <td>0</td>\n",
       "      <td>0</td>\n",
       "      <td>0</td>\n",
       "      <td>14</td>\n",
       "    </tr>\n",
       "  </tbody>\n",
       "</table>\n",
       "<p>5 rows × 115 columns</p>\n",
       "</div>"
      ],
      "text/plain": [
       "   itching  skin_rash  nodal_skin_eruptions  continuous_sneezing  shivering  \\\n",
       "0        1          1                     1                    0          0   \n",
       "1        0          1                     1                    0          0   \n",
       "2        1          0                     1                    0          0   \n",
       "3        1          1                     0                    0          0   \n",
       "4        1          1                     1                    0          0   \n",
       "\n",
       "   chills  crying while touching joints  crying while touching stomach  \\\n",
       "0       0                             0                              0   \n",
       "1       0                             0                              0   \n",
       "2       0                             0                              0   \n",
       "3       0                             0                              0   \n",
       "4       0                             0                              0   \n",
       "\n",
       "   acidity  crying when head touched  ...  palpitations  painful_walking  \\\n",
       "0        0                         0  ...             0                0   \n",
       "1        0                         0  ...             0                0   \n",
       "2        0                         0  ...             0                0   \n",
       "3        0                         0  ...             0                0   \n",
       "4        0                         0  ...             0                0   \n",
       "\n",
       "   skin_peeling  silver_like_dusting  small_dents_in_nails  \\\n",
       "0             0                    0                     0   \n",
       "1             0                    0                     0   \n",
       "2             0                    0                     0   \n",
       "3             0                    0                     0   \n",
       "4             0                    0                     0   \n",
       "\n",
       "   inflammatory_nails  blister  red_sore_around_nose  yellow_crust_ooze  \\\n",
       "0                   0        0                     0                  0   \n",
       "1                   0        0                     0                  0   \n",
       "2                   0        0                     0                  0   \n",
       "3                   0        0                     0                  0   \n",
       "4                   0        0                     0                  0   \n",
       "\n",
       "   prognosis  \n",
       "0         14  \n",
       "1         14  \n",
       "2         14  \n",
       "3         14  \n",
       "4         14  \n",
       "\n",
       "[5 rows x 115 columns]"
      ]
     },
     "execution_count": 10,
     "metadata": {},
     "output_type": "execute_result"
    }
   ],
   "source": [
    "df.head()"
   ]
  },
  {
   "cell_type": "code",
   "execution_count": 11,
   "metadata": {},
   "outputs": [
    {
     "name": "stdout",
     "output_type": "stream",
     "text": [
      "<class 'pandas.core.frame.DataFrame'>\n",
      "RangeIndex: 4560 entries, 0 to 4559\n",
      "Columns: 115 entries, itching to prognosis\n",
      "dtypes: int64(115)\n",
      "memory usage: 4.0 MB\n",
      "<class 'pandas.core.frame.DataFrame'>\n",
      "Index: 4560 entries, Diaper Rash to Conjuctivitis\n",
      "Columns: 114 entries, itching to yellow_crust_ooze\n",
      "dtypes: int64(114)\n",
      "memory usage: 4.0+ MB\n"
     ]
    }
   ],
   "source": [
    "df.info()\n",
    "DF.info()"
   ]
  },
  {
   "cell_type": "code",
   "execution_count": 12,
   "metadata": {},
   "outputs": [
    {
     "data": {
      "text/plain": [
       "0"
      ]
     },
     "execution_count": 12,
     "metadata": {},
     "output_type": "execute_result"
    }
   ],
   "source": [
    "(df.isnull().sum()).sum()"
   ]
  },
  {
   "cell_type": "code",
   "execution_count": 13,
   "metadata": {},
   "outputs": [
    {
     "data": {
      "text/plain": [
       "itching                 0\n",
       "skin_rash               0\n",
       "nodal_skin_eruptions    0\n",
       "continuous_sneezing     0\n",
       "shivering               0\n",
       "                       ..\n",
       "inflammatory_nails      0\n",
       "blister                 0\n",
       "red_sore_around_nose    0\n",
       "yellow_crust_ooze       0\n",
       "prognosis               0\n",
       "Length: 115, dtype: int64"
      ]
     },
     "execution_count": 13,
     "metadata": {},
     "output_type": "execute_result"
    }
   ],
   "source": [
    "df.isnull().sum()"
   ]
  },
  {
   "cell_type": "code",
   "execution_count": 14,
   "metadata": {},
   "outputs": [
    {
     "data": {
      "text/html": [
       "<div>\n",
       "<style scoped>\n",
       "    .dataframe tbody tr th:only-of-type {\n",
       "        vertical-align: middle;\n",
       "    }\n",
       "\n",
       "    .dataframe tbody tr th {\n",
       "        vertical-align: top;\n",
       "    }\n",
       "\n",
       "    .dataframe thead th {\n",
       "        text-align: right;\n",
       "    }\n",
       "</style>\n",
       "<table border=\"1\" class=\"dataframe\">\n",
       "  <thead>\n",
       "    <tr style=\"text-align: right;\">\n",
       "      <th></th>\n",
       "      <th>itching</th>\n",
       "      <th>skin_rash</th>\n",
       "      <th>nodal_skin_eruptions</th>\n",
       "      <th>continuous_sneezing</th>\n",
       "      <th>shivering</th>\n",
       "      <th>chills</th>\n",
       "      <th>crying while touching joints</th>\n",
       "      <th>crying while touching stomach</th>\n",
       "      <th>acidity</th>\n",
       "      <th>crying when head touched</th>\n",
       "      <th>...</th>\n",
       "      <th>palpitations</th>\n",
       "      <th>painful_walking</th>\n",
       "      <th>skin_peeling</th>\n",
       "      <th>silver_like_dusting</th>\n",
       "      <th>small_dents_in_nails</th>\n",
       "      <th>inflammatory_nails</th>\n",
       "      <th>blister</th>\n",
       "      <th>red_sore_around_nose</th>\n",
       "      <th>yellow_crust_ooze</th>\n",
       "      <th>prognosis</th>\n",
       "    </tr>\n",
       "  </thead>\n",
       "  <tbody>\n",
       "    <tr>\n",
       "      <th>count</th>\n",
       "      <td>4560.000000</td>\n",
       "      <td>4560.000000</td>\n",
       "      <td>4560.000000</td>\n",
       "      <td>4560.000000</td>\n",
       "      <td>4560.000000</td>\n",
       "      <td>4560.000000</td>\n",
       "      <td>4560.000000</td>\n",
       "      <td>4560.000000</td>\n",
       "      <td>4560.000000</td>\n",
       "      <td>4560.000000</td>\n",
       "      <td>...</td>\n",
       "      <td>4560.000000</td>\n",
       "      <td>4560.000000</td>\n",
       "      <td>4560.000000</td>\n",
       "      <td>4560.000000</td>\n",
       "      <td>4560.000000</td>\n",
       "      <td>4560.000000</td>\n",
       "      <td>4560.000000</td>\n",
       "      <td>4560.000000</td>\n",
       "      <td>4560.000000</td>\n",
       "      <td>4560.000000</td>\n",
       "    </tr>\n",
       "    <tr>\n",
       "      <th>mean</th>\n",
       "      <td>0.278509</td>\n",
       "      <td>0.152632</td>\n",
       "      <td>0.023684</td>\n",
       "      <td>0.048684</td>\n",
       "      <td>0.189474</td>\n",
       "      <td>0.175000</td>\n",
       "      <td>0.139254</td>\n",
       "      <td>0.048684</td>\n",
       "      <td>0.023684</td>\n",
       "      <td>0.175000</td>\n",
       "      <td>...</td>\n",
       "      <td>0.013158</td>\n",
       "      <td>0.050000</td>\n",
       "      <td>0.025000</td>\n",
       "      <td>0.025000</td>\n",
       "      <td>0.025000</td>\n",
       "      <td>0.025000</td>\n",
       "      <td>0.025000</td>\n",
       "      <td>0.025000</td>\n",
       "      <td>0.025000</td>\n",
       "      <td>18.631579</td>\n",
       "    </tr>\n",
       "    <tr>\n",
       "      <th>std</th>\n",
       "      <td>0.448314</td>\n",
       "      <td>0.359671</td>\n",
       "      <td>0.152080</td>\n",
       "      <td>0.215231</td>\n",
       "      <td>0.391927</td>\n",
       "      <td>0.380009</td>\n",
       "      <td>0.346250</td>\n",
       "      <td>0.215231</td>\n",
       "      <td>0.152080</td>\n",
       "      <td>0.380009</td>\n",
       "      <td>...</td>\n",
       "      <td>0.113963</td>\n",
       "      <td>0.217969</td>\n",
       "      <td>0.156142</td>\n",
       "      <td>0.156142</td>\n",
       "      <td>0.156142</td>\n",
       "      <td>0.156142</td>\n",
       "      <td>0.156142</td>\n",
       "      <td>0.156142</td>\n",
       "      <td>0.156142</td>\n",
       "      <td>11.168425</td>\n",
       "    </tr>\n",
       "    <tr>\n",
       "      <th>min</th>\n",
       "      <td>0.000000</td>\n",
       "      <td>0.000000</td>\n",
       "      <td>0.000000</td>\n",
       "      <td>0.000000</td>\n",
       "      <td>0.000000</td>\n",
       "      <td>0.000000</td>\n",
       "      <td>0.000000</td>\n",
       "      <td>0.000000</td>\n",
       "      <td>0.000000</td>\n",
       "      <td>0.000000</td>\n",
       "      <td>...</td>\n",
       "      <td>0.000000</td>\n",
       "      <td>0.000000</td>\n",
       "      <td>0.000000</td>\n",
       "      <td>0.000000</td>\n",
       "      <td>0.000000</td>\n",
       "      <td>0.000000</td>\n",
       "      <td>0.000000</td>\n",
       "      <td>0.000000</td>\n",
       "      <td>0.000000</td>\n",
       "      <td>0.000000</td>\n",
       "    </tr>\n",
       "    <tr>\n",
       "      <th>25%</th>\n",
       "      <td>0.000000</td>\n",
       "      <td>0.000000</td>\n",
       "      <td>0.000000</td>\n",
       "      <td>0.000000</td>\n",
       "      <td>0.000000</td>\n",
       "      <td>0.000000</td>\n",
       "      <td>0.000000</td>\n",
       "      <td>0.000000</td>\n",
       "      <td>0.000000</td>\n",
       "      <td>0.000000</td>\n",
       "      <td>...</td>\n",
       "      <td>0.000000</td>\n",
       "      <td>0.000000</td>\n",
       "      <td>0.000000</td>\n",
       "      <td>0.000000</td>\n",
       "      <td>0.000000</td>\n",
       "      <td>0.000000</td>\n",
       "      <td>0.000000</td>\n",
       "      <td>0.000000</td>\n",
       "      <td>0.000000</td>\n",
       "      <td>9.000000</td>\n",
       "    </tr>\n",
       "    <tr>\n",
       "      <th>50%</th>\n",
       "      <td>0.000000</td>\n",
       "      <td>0.000000</td>\n",
       "      <td>0.000000</td>\n",
       "      <td>0.000000</td>\n",
       "      <td>0.000000</td>\n",
       "      <td>0.000000</td>\n",
       "      <td>0.000000</td>\n",
       "      <td>0.000000</td>\n",
       "      <td>0.000000</td>\n",
       "      <td>0.000000</td>\n",
       "      <td>...</td>\n",
       "      <td>0.000000</td>\n",
       "      <td>0.000000</td>\n",
       "      <td>0.000000</td>\n",
       "      <td>0.000000</td>\n",
       "      <td>0.000000</td>\n",
       "      <td>0.000000</td>\n",
       "      <td>0.000000</td>\n",
       "      <td>0.000000</td>\n",
       "      <td>0.000000</td>\n",
       "      <td>18.500000</td>\n",
       "    </tr>\n",
       "    <tr>\n",
       "      <th>75%</th>\n",
       "      <td>1.000000</td>\n",
       "      <td>0.000000</td>\n",
       "      <td>0.000000</td>\n",
       "      <td>0.000000</td>\n",
       "      <td>0.000000</td>\n",
       "      <td>0.000000</td>\n",
       "      <td>0.000000</td>\n",
       "      <td>0.000000</td>\n",
       "      <td>0.000000</td>\n",
       "      <td>0.000000</td>\n",
       "      <td>...</td>\n",
       "      <td>0.000000</td>\n",
       "      <td>0.000000</td>\n",
       "      <td>0.000000</td>\n",
       "      <td>0.000000</td>\n",
       "      <td>0.000000</td>\n",
       "      <td>0.000000</td>\n",
       "      <td>0.000000</td>\n",
       "      <td>0.000000</td>\n",
       "      <td>0.000000</td>\n",
       "      <td>28.000000</td>\n",
       "    </tr>\n",
       "    <tr>\n",
       "      <th>max</th>\n",
       "      <td>1.000000</td>\n",
       "      <td>1.000000</td>\n",
       "      <td>1.000000</td>\n",
       "      <td>1.000000</td>\n",
       "      <td>1.000000</td>\n",
       "      <td>1.000000</td>\n",
       "      <td>1.000000</td>\n",
       "      <td>1.000000</td>\n",
       "      <td>1.000000</td>\n",
       "      <td>1.000000</td>\n",
       "      <td>...</td>\n",
       "      <td>1.000000</td>\n",
       "      <td>1.000000</td>\n",
       "      <td>1.000000</td>\n",
       "      <td>1.000000</td>\n",
       "      <td>1.000000</td>\n",
       "      <td>1.000000</td>\n",
       "      <td>1.000000</td>\n",
       "      <td>1.000000</td>\n",
       "      <td>1.000000</td>\n",
       "      <td>38.000000</td>\n",
       "    </tr>\n",
       "  </tbody>\n",
       "</table>\n",
       "<p>8 rows × 115 columns</p>\n",
       "</div>"
      ],
      "text/plain": [
       "           itching    skin_rash  nodal_skin_eruptions  continuous_sneezing  \\\n",
       "count  4560.000000  4560.000000           4560.000000          4560.000000   \n",
       "mean      0.278509     0.152632              0.023684             0.048684   \n",
       "std       0.448314     0.359671              0.152080             0.215231   \n",
       "min       0.000000     0.000000              0.000000             0.000000   \n",
       "25%       0.000000     0.000000              0.000000             0.000000   \n",
       "50%       0.000000     0.000000              0.000000             0.000000   \n",
       "75%       1.000000     0.000000              0.000000             0.000000   \n",
       "max       1.000000     1.000000              1.000000             1.000000   \n",
       "\n",
       "         shivering       chills  crying while touching joints  \\\n",
       "count  4560.000000  4560.000000                   4560.000000   \n",
       "mean      0.189474     0.175000                      0.139254   \n",
       "std       0.391927     0.380009                      0.346250   \n",
       "min       0.000000     0.000000                      0.000000   \n",
       "25%       0.000000     0.000000                      0.000000   \n",
       "50%       0.000000     0.000000                      0.000000   \n",
       "75%       0.000000     0.000000                      0.000000   \n",
       "max       1.000000     1.000000                      1.000000   \n",
       "\n",
       "       crying while touching stomach      acidity  crying when head touched  \\\n",
       "count                    4560.000000  4560.000000               4560.000000   \n",
       "mean                        0.048684     0.023684                  0.175000   \n",
       "std                         0.215231     0.152080                  0.380009   \n",
       "min                         0.000000     0.000000                  0.000000   \n",
       "25%                         0.000000     0.000000                  0.000000   \n",
       "50%                         0.000000     0.000000                  0.000000   \n",
       "75%                         0.000000     0.000000                  0.000000   \n",
       "max                         1.000000     1.000000                  1.000000   \n",
       "\n",
       "       ...  palpitations  painful_walking  skin_peeling  silver_like_dusting  \\\n",
       "count  ...   4560.000000      4560.000000   4560.000000          4560.000000   \n",
       "mean   ...      0.013158         0.050000      0.025000             0.025000   \n",
       "std    ...      0.113963         0.217969      0.156142             0.156142   \n",
       "min    ...      0.000000         0.000000      0.000000             0.000000   \n",
       "25%    ...      0.000000         0.000000      0.000000             0.000000   \n",
       "50%    ...      0.000000         0.000000      0.000000             0.000000   \n",
       "75%    ...      0.000000         0.000000      0.000000             0.000000   \n",
       "max    ...      1.000000         1.000000      1.000000             1.000000   \n",
       "\n",
       "       small_dents_in_nails  inflammatory_nails      blister  \\\n",
       "count           4560.000000         4560.000000  4560.000000   \n",
       "mean               0.025000            0.025000     0.025000   \n",
       "std                0.156142            0.156142     0.156142   \n",
       "min                0.000000            0.000000     0.000000   \n",
       "25%                0.000000            0.000000     0.000000   \n",
       "50%                0.000000            0.000000     0.000000   \n",
       "75%                0.000000            0.000000     0.000000   \n",
       "max                1.000000            1.000000     1.000000   \n",
       "\n",
       "       red_sore_around_nose  yellow_crust_ooze    prognosis  \n",
       "count           4560.000000        4560.000000  4560.000000  \n",
       "mean               0.025000           0.025000    18.631579  \n",
       "std                0.156142           0.156142    11.168425  \n",
       "min                0.000000           0.000000     0.000000  \n",
       "25%                0.000000           0.000000     9.000000  \n",
       "50%                0.000000           0.000000    18.500000  \n",
       "75%                0.000000           0.000000    28.000000  \n",
       "max                1.000000           1.000000    38.000000  \n",
       "\n",
       "[8 rows x 115 columns]"
      ]
     },
     "execution_count": 14,
     "metadata": {},
     "output_type": "execute_result"
    }
   ],
   "source": [
    "df.describe()"
   ]
  },
  {
   "cell_type": "code",
   "execution_count": 15,
   "metadata": {},
   "outputs": [
    {
     "data": {
      "text/plain": [
       "(4560, 113)"
      ]
     },
     "execution_count": 15,
     "metadata": {},
     "output_type": "execute_result"
    }
   ],
   "source": [
    "X= df[l1]\n",
    "y = df[[\"prognosis\"]]\n",
    "np.ravel(y)\n",
    "X.shape"
   ]
  },
  {
   "cell_type": "code",
   "execution_count": 16,
   "metadata": {},
   "outputs": [
    {
     "data": {
      "text/plain": [
       "'import seaborn as sns\\nplt.figure(figsize=(200,100))\\nsns.heatmap(DF,annot=True)\\nplt.show()'"
      ]
     },
     "execution_count": 16,
     "metadata": {},
     "output_type": "execute_result"
    }
   ],
   "source": [
    "'''import seaborn as sns\n",
    "plt.figure(figsize=(200,100))\n",
    "sns.heatmap(DF,annot=True)\n",
    "plt.show()'''"
   ]
  },
  {
   "cell_type": "code",
   "execution_count": null,
   "metadata": {},
   "outputs": [],
   "source": []
  },
  {
   "cell_type": "code",
   "execution_count": 17,
   "metadata": {},
   "outputs": [],
   "source": [
    "df['prognosis'] = pd.to_numeric(df['prognosis'])\n",
    "#print(df[pd.to_numeric(df['prognosis'],errors = 'coerce').isnull()])"
   ]
  },
  {
   "cell_type": "code",
   "execution_count": 18,
   "metadata": {},
   "outputs": [
    {
     "name": "stdout",
     "output_type": "stream",
     "text": [
      "<class 'pandas.core.frame.DataFrame'>\n",
      "RangeIndex: 4560 entries, 0 to 4559\n",
      "Columns: 115 entries, itching to prognosis\n",
      "dtypes: int64(115)\n",
      "memory usage: 4.0 MB\n",
      "<class 'pandas.core.frame.DataFrame'>\n",
      "Index: 4560 entries, Diaper Rash to Conjuctivitis\n",
      "Columns: 114 entries, itching to yellow_crust_ooze\n",
      "dtypes: int64(114)\n",
      "memory usage: 4.0+ MB\n"
     ]
    }
   ],
   "source": [
    "df.info()\n",
    "DF.info()"
   ]
  },
  {
   "cell_type": "code",
   "execution_count": 19,
   "metadata": {},
   "outputs": [
    {
     "data": {
      "text/plain": [
       "4560"
      ]
     },
     "execution_count": 19,
     "metadata": {},
     "output_type": "execute_result"
    }
   ],
   "source": [
    "len(np.ravel(y))"
   ]
  },
  {
   "cell_type": "code",
   "execution_count": 20,
   "metadata": {},
   "outputs": [],
   "source": [
    "#Reading the  testing.csv file\n",
    "tr=pd.read_csv(\"Testing_Prakriti.csv\")\n",
    "\n",
    "#Using inbuilt function replace in pandas for replacing the values\n",
    "\n",
    "tr.replace({'prognosis':{'(vertigo) Paroymsal  Positional Vertigo':0,'AIDS':1,'Allergy':2,'Arthritis':3,'Bronchial Asthma':4,\n",
    "    'Cervical spondylosis':5,'Chicken pox':6,'Chronic cholestasis':7,'Common Cold':8,'Conjuctivitis':9,'Corona':10,\n",
    "    'Dengue':11,'Diabetes ':12, 'Dimorphic hemmorhoids(piles)':13,'Diaper Rash':14,'Drug Reaction':15,'Gastroenteritis':16,'GERD / Acid Reflux':17,'Heart attack':18,'Hepatitis B':19,\n",
    "    'Hepatitis A':20,'Paralysis (brain hemorrhage)':21,'Jaundice':22,'Malaria':23,'Typhoid':24,'Hepatitis C':25,\n",
    "    'Hepatitis D':26,'Hepatitis E':27,'Tuberculosis':28,'Pneumonia':29,'Varicose veins':30,'Hypothyroidism':31,\n",
    "    'Hyperthyroidism':32,'Hypoglycemia':33,'Osteoarthristis':34,'Urinary tract infection':35,\n",
    "    'Psoriasis':36,'Impetigo':37,'Hypertension':38}},inplace=True)\n",
    "\n",
    "#tr.head()"
   ]
  },
  {
   "cell_type": "code",
   "execution_count": 21,
   "metadata": {},
   "outputs": [
    {
     "data": {
      "text/plain": [
       "(39, 115)"
      ]
     },
     "execution_count": 21,
     "metadata": {},
     "output_type": "execute_result"
    }
   ],
   "source": [
    "tr.shape"
   ]
  },
  {
   "cell_type": "code",
   "execution_count": 22,
   "metadata": {},
   "outputs": [
    {
     "data": {
      "text/plain": [
       "array([ 0,  1,  2,  3,  4,  5,  6,  7,  8,  9, 10, 11, 12, 13, 14, 15, 16,\n",
       "       17, 18, 19, 20, 38, 21, 22, 23, 24, 25, 26, 27, 28, 29, 30, 31, 32,\n",
       "       33, 34, 35, 36, 37], dtype=int64)"
      ]
     },
     "execution_count": 22,
     "metadata": {},
     "output_type": "execute_result"
    }
   ],
   "source": [
    "X_test= tr[l1]\n",
    "y_test = tr[[\"prognosis\"]]\n",
    "np.ravel(y_test)\n",
    "#print(X_test)"
   ]
  },
  {
   "cell_type": "code",
   "execution_count": 23,
   "metadata": {},
   "outputs": [
    {
     "data": {
      "text/plain": [
       "(39, 113)"
      ]
     },
     "execution_count": 23,
     "metadata": {},
     "output_type": "execute_result"
    }
   ],
   "source": [
    "X_test.shape"
   ]
  },
  {
   "cell_type": "markdown",
   "metadata": {},
   "source": [
    "**To build the precision of the model, we utilized algorithms which are as per the following**\n",
    "* Random Forest algorithm"
   ]
  },
  {
   "cell_type": "code",
   "execution_count": 24,
   "metadata": {},
   "outputs": [
    {
     "data": {
      "text/plain": [
       "\"\\ndef scatterinp(sym1,sym2,sym3,sym4,sym5):\\n    \\n    x = [sym1,sym2,sym3,sym4,sym5]#storing input symptoms in y\\n    y = [0,0,0,0,0]#creating and giving values to the input symptoms\\n    if(sym1!='Select Here'):\\n        y[0]=1\\n    if(sym2!='Select Here'):\\n        y[1]=1\\n    if(sym3!='Select Here'):\\n        y[2]=1\\n    if(sym4!='Select Here'):\\n        y[3]=1\\n    if(sym5!='Select Here'):\\n        y[4]=1\\n    print(x)\\n    print(y)\\n    plt.scatter(x,y)\\n    plt.show()\""
      ]
     },
     "execution_count": 24,
     "metadata": {},
     "output_type": "execute_result"
    }
   ],
   "source": [
    "#list1 = DF['prognosis'].unique()\n",
    "def scatterplt(disea):\n",
    "    x = ((DF.loc[disea]).sum())#total sum of symptom reported for given disease\n",
    "    x.drop(x[x==0].index,inplace=True)#droping symptoms with values 0\n",
    "    print(x.values)\n",
    "    y = x.keys()#storing nameof symptoms in y\n",
    "    print(len(x))\n",
    "    print(len(y))\n",
    "    plt.figure(figsize=(35,10))\n",
    "    plt.title(disea)\n",
    "    plt.scatter(y,x.values)\n",
    "    plt.show()\n",
    "'''\n",
    "def scatterinp(sym1,sym2,sym3,sym4,sym5):\n",
    "    \n",
    "    x = [sym1,sym2,sym3,sym4,sym5]#storing input symptoms in y\n",
    "    y = [0,0,0,0,0]#creating and giving values to the input symptoms\n",
    "    if(sym1!='Select Here'):\n",
    "        y[0]=1\n",
    "    if(sym2!='Select Here'):\n",
    "        y[1]=1\n",
    "    if(sym3!='Select Here'):\n",
    "        y[2]=1\n",
    "    if(sym4!='Select Here'):\n",
    "        y[3]=1\n",
    "    if(sym5!='Select Here'):\n",
    "        y[4]=1\n",
    "    print(x)\n",
    "    print(y)\n",
    "    plt.scatter(x,y)\n",
    "    plt.show()'''"
   ]
  },
  {
   "cell_type": "code",
   "execution_count": 25,
   "metadata": {},
   "outputs": [
    {
     "data": {
      "text/plain": [
       "'import seaborn as sns\\nplt.figure(figsize=(200,100))\\nsns.heatmap(DF.corr(),annot=True)\\nplt.show()'"
      ]
     },
     "execution_count": 25,
     "metadata": {},
     "output_type": "execute_result"
    }
   ],
   "source": [
    "'''import seaborn as sns\n",
    "plt.figure(figsize=(200,100))\n",
    "sns.heatmap(DF.corr(),annot=True)\n",
    "plt.show()'''"
   ]
  },
  {
   "cell_type": "markdown",
   "metadata": {},
   "source": [
    "# Random Forest Algorithm"
   ]
  },
  {
   "cell_type": "code",
   "execution_count": 26,
   "metadata": {},
   "outputs": [],
   "source": [
    "root = Tk()\n",
    "pred2=StringVar()\n",
    "def randomforest():\n",
    "    if len(NameEn.get()) == 0:\n",
    "        pred2.set(\" \")\n",
    "        comp=messagebox.askokcancel(\"System\",\"Kindly Fill the Name\")\n",
    "        if comp:\n",
    "            root.mainloop()\n",
    "    elif((Symptom1.get()==\"Select Here\") or (Symptom2.get()==\"Select Here\")):\n",
    "        pred2.set(\" \")\n",
    "        sym=messagebox.askokcancel(\"System\",\"Kindly Fill atleast first two Symptoms\")\n",
    "        if sym:\n",
    "            root.mainloop()\n",
    "    else:\n",
    "        from sklearn.ensemble import RandomForestClassifier\n",
    "        clf4 = RandomForestClassifier(n_estimators=100)#This is the number of trees (in general the number of samples on which this algorithm will work then it will aggregate them to give you the final answer) you want to build before taking the maximum voting or averages of predictions\n",
    "        clf4 = clf4.fit(X,np.ravel(y))\n",
    "        print(\"clf4\")\n",
    "\n",
    "        # calculating accuracy \n",
    "        from sklearn.metrics import classification_report,confusion_matrix,accuracy_score\n",
    "        y_pred=clf4.predict(X_test)\n",
    "        print(\"Random Forest\")\n",
    "        print(\"Accuracy\")#TP+TN/Tot\n",
    "        print(accuracy_score(y_test, y_pred))\n",
    "        print(accuracy_score(y_test, y_pred,normalize=False))\n",
    "        print(\"Confusion matrix\")#is it relevant here\n",
    "        #conf_matrix=confusion_matrix(y_test,y_pred)\n",
    "        #print(conf_matrix)\n",
    "    \n",
    "        psymptoms = [Symptom1.get(),Symptom2.get(),Symptom3.get(),Symptom4.get(),Symptom5.get()]\n",
    "\n",
    "        for k in range(0,len(l1)):\n",
    "            for z in psymptoms:\n",
    "                if(z==l1[k]):\n",
    "                    l2[k]=1\n",
    "\n",
    "        inputtest = [l2]\n",
    "        predict = clf4.predict(inputtest)\n",
    "        predicted=predict[0]#picking 1st pred\n",
    "\n",
    "        h='no'\n",
    "        for a in range(0,len(disease)):\n",
    "            if(predicted == a):\n",
    "                h='yes'\n",
    "                break\n",
    "        if (h=='yes'):\n",
    "            pred2.set(\" \")\n",
    "            pred2.set(disease[a])\n",
    "        else:\n",
    "            pred2.set(\" \")\n",
    "            pred2.set(\"Not Found\")\n",
    "        #printing scatter plot of disease predicted vs its symptoms\n",
    "        scatterplt(pred2.get())"
   ]
  },
  {
   "cell_type": "markdown",
   "metadata": {},
   "source": [
    "# Building Graphical User Interface"
   ]
  },
  {
   "cell_type": "code",
   "execution_count": 27,
   "metadata": {},
   "outputs": [
    {
     "data": {
      "text/plain": [
       "''"
      ]
     },
     "execution_count": 27,
     "metadata": {},
     "output_type": "execute_result"
    }
   ],
   "source": [
    "#Tk class is used to create a root window\n",
    "root.configure(background='Ivory')\n",
    "root.title('Optum Care')\n",
    "root.resizable(0,0)\n",
    "#xroot.state('zoomed')\n",
    "#root.attributes('-fullscreen', True)"
   ]
  },
  {
   "cell_type": "code",
   "execution_count": 28,
   "metadata": {},
   "outputs": [],
   "source": [
    "Symptom1 = StringVar(root)\n",
    "Symptom1.set(\"Select Here\")\n",
    "\n",
    "Symptom2 = StringVar(root)\n",
    "Symptom2.set(\"Select Here\")\n",
    "\n",
    "Symptom3 = StringVar(root)\n",
    "Symptom3.set(\"Select Here\")\n",
    "\n",
    "Symptom4 = StringVar(root)\n",
    "Symptom4.set(\"Select Here\")\n",
    "\n",
    "Symptom5 = StringVar(root)\n",
    "Symptom5.set(\"Select Here\")\n",
    "Name = StringVar()\n",
    "Pin = StringVar()"
   ]
  },
  {
   "cell_type": "code",
   "execution_count": 29,
   "metadata": {},
   "outputs": [],
   "source": [
    "prev_win=None\n",
    "def Reset():\n",
    "    global prev_win\n",
    "\n",
    "    Symptom1.set(\"Select Here\")\n",
    "    Symptom2.set(\"Select Here\")\n",
    "    Symptom3.set(\"Select Here\")\n",
    "    Symptom4.set(\"Select Here\")\n",
    "    Symptom5.set(\"Select Here\")\n",
    "    NameEn.delete(first=0,last=100)\n",
    "    pred2.set(\" \")\n",
    "    try:\n",
    "        prev_win.destroy()\n",
    "        print(\"Try\")\n",
    "        prev_win=None\n",
    "    except AttributeError:\n",
    "        print(\"except\")\n",
    "        pass"
   ]
  },
  {
   "cell_type": "code",
   "execution_count": 30,
   "metadata": {},
   "outputs": [],
   "source": [
    "from tkinter import messagebox\n",
    "def Exit():\n",
    "    qExit=messagebox.askyesno(\"System\",\"Do you want to exit the system\")\n",
    "    \n",
    "    if qExit:\n",
    "        root.destroy()\n",
    "        exit()"
   ]
  },
  {
   "cell_type": "code",
   "execution_count": 31,
   "metadata": {},
   "outputs": [],
   "source": [
    "#Headings for the GUI written at the top of GUI\n",
    "w2 = Label(root, justify = RIGHT, text=\"Neo Natal Care\", fg=\"Dark Orange\", bg=\"Ivory\")#display box where you can put any text or image which can be updated any time as per the code\n",
    "w2.config(font=(\"Arial\",30,\"bold\"))#not found\n",
    "w2.grid(row=1, column=0, columnspan=2, padx=100)#geometry manager organises widgets in a table-like structure in the parent widget\n",
    "img = PhotoImage(file=\"optum.png\")\n",
    "imglabel = Label(root,image = img, justify = RIGHT)\n",
    "imglabel.grid(row=1, column=3)"
   ]
  },
  {
   "cell_type": "code",
   "execution_count": 32,
   "metadata": {},
   "outputs": [],
   "source": [
    "#Label for the name\n",
    "NameLb = Label(root, text=\"Name of the Patient *\", fg=\"Dark Orange\", bg=\"Ivory\")\n",
    "NameLb.config(font=(\"Arial\",15,\"bold \"))\n",
    "NameLb.grid(row=6, column=0, pady=15, sticky=W)"
   ]
  },
  {
   "cell_type": "code",
   "execution_count": 33,
   "metadata": {},
   "outputs": [],
   "source": [
    "#Creating Labels for the symtoms\n",
    "S1Lb = Label(root, text=\"Symptom 1 *\", fg=\"Dark Orange\", bg=\"Ivory\")\n",
    "S1Lb.config(font=(\"Arial\",15,\"bold\"))\n",
    "S1Lb.grid(row=7, column=0, pady=10, sticky=W)\n",
    "\n",
    "S2Lb = Label(root, text=\"Symptom 2 *\", fg=\"Dark Orange\", bg=\"Ivory\")\n",
    "S2Lb.config(font=(\"Arial\",15,\"bold\"))\n",
    "S2Lb.grid(row=8, column=0, pady=10, sticky=W)\n",
    "\n",
    "S3Lb = Label(root, text=\"Symptom 3\", fg=\"Dark Orange\", bg=\"Ivory\")\n",
    "S3Lb.config(font=(\"Arial\",15,\"bold\"))\n",
    "S3Lb.grid(row=9, column=0, pady=10, sticky=W)\n",
    "\n",
    "S4Lb = Label(root, text=\"Symptom 4\", fg=\"Dark Orange\", bg=\"Ivory\")\n",
    "S4Lb.config(font=(\"Arial\",15,\"bold\"))\n",
    "S4Lb.grid(row=10, column=0, pady=10, sticky=W)\n",
    "\n",
    "S5Lb = Label(root, text=\"Symptom 5\", fg=\"Dark Orange\", bg=\"Ivory\")\n",
    "S5Lb.config(font=(\"Arial\",15,\"bold\"))\n",
    "S5Lb.grid(row=11, column=0, pady=10, sticky=W)\n",
    "\n",
    "PinLb = Label(root, text=\"Pin Code\", fg=\"Dark Orange\", bg=\"Ivory\")\n",
    "PinLb.config(font=(\"Arial\",15,\"bold\"))\n",
    "PinLb.grid(row=12, column=0, pady=10, sticky=W)"
   ]
  },
  {
   "cell_type": "code",
   "execution_count": 34,
   "metadata": {},
   "outputs": [],
   "source": [
    "#Labels for the different algorithms\n",
    "\n",
    "destreeLb = Label(root, text=\"Random Forest\", fg=\"Dark Orange\", bg=\"Ivory\")#, width = 20)\n",
    "destreeLb.config(font=(\"Arial\",15,\"bold\"))\n",
    "destreeLb.grid(row=17, column=0, pady=10, sticky=W)\n",
    "\n",
    "OPTIONS = sorted(l1)"
   ]
  },
  {
   "cell_type": "code",
   "execution_count": 35,
   "metadata": {},
   "outputs": [],
   "source": [
    "#Taking name as input from user\n",
    "NameEn = Entry(root, textvariable=Name)\n",
    "NameEn.grid(row=6, column=1)\n",
    "\n",
    "#Taking Symptoms as input from the dropdown from the user\n",
    "S1 = (ttk.Combobox)(root,value =OPTIONS,textvariable=Symptom1,width = 30) #dropdown or popup menu that displays a group of objects on a click or keyboard event and lets the user select one option at a time\n",
    "S1.bind(\"<<ComboboxSelected>>\")\n",
    "S1.grid(row=7, column=1)\n",
    "\n",
    "S2 = (ttk.Combobox)(root,value =OPTIONS, textvariable=Symptom2,width = 30)\n",
    "S2.bind(\"<<ComboboxSelected>>\")\n",
    "S2.grid(row=8, column=1)\n",
    "\n",
    "S3 = (ttk.Combobox)(root,value =OPTIONS, textvariable=Symptom3,width = 30)\n",
    "S3.bind(\"<<ComboboxSelected>>\")\n",
    "S3.grid(row=9, column=1)\n",
    "\n",
    "S4 = (ttk.Combobox)(root,value =OPTIONS,textvariable=Symptom4,width = 30)\n",
    "S4.bind(\"<<ComboboxSelected>>\")\n",
    "S4.grid(row=10, column=1)\n",
    "\n",
    "S5 = (ttk.Combobox)(root,value =OPTIONS,textvariable=Symptom5,width = 30)\n",
    "S5.bind(\"<<ComboboxSelected>>\")\n",
    "S5.grid(row=11, column=1)\n",
    "\n",
    "PinEn = Entry(root, textvariable=Pin)\n",
    "PinEn.grid(row=12, column=1)"
   ]
  },
  {
   "cell_type": "code",
   "execution_count": 36,
   "metadata": {},
   "outputs": [],
   "source": [
    "def doctor():\n",
    "    drs = messagebox.showinfo(\"Care Details\",\"John : +01919416965034         Hari : +017453298075490        Michelle : +659260427986\")\n",
    "    if drs:\n",
    "        print(\"drsdrs\")"
   ]
  },
  {
   "cell_type": "code",
   "execution_count": 37,
   "metadata": {},
   "outputs": [],
   "source": [
    "#Buttons for predicting the disease using different algorithms\n",
    "\n",
    "rs = Button(root,text=\"Reset Inputs\", command=Reset,fg=\"Dark Orange\", bg=\"Ivory\")\n",
    "rs.config(font=(\"Arial\",15,\"bold\"))\n",
    "rs.grid(row=13,column=3,padx=10)\n",
    "\n",
    "rnf = Button(root,text=\"Prediction\", command=randomforest,fg=\"Dark Orange\", bg=\"Ivory\")#used to add buttons\n",
    "rnf.config(font=(\"Arial\",15,\"bold\"))\n",
    "rnf.grid(row=11, column=3,padx=10)\n",
    "\n",
    "ex = Button(root,text=\"Exit System\", command=Exit,fg=\"Dark Orange\", bg=\"Ivory\")\n",
    "ex.config(font=(\"Arial\",15,\"bold\"))\n",
    "ex.grid(row=17,column=3,padx=10)\n",
    "\n",
    "dr = Button(root,text=\"Care Details\", command=doctor,fg=\"Dark Orange\", bg=\"Ivory\")\n",
    "dr.config(font=(\"Arial\",15,\"bold\"))\n",
    "dr.grid(row=15,column=3,padx=10)"
   ]
  },
  {
   "cell_type": "code",
   "execution_count": 38,
   "metadata": {},
   "outputs": [],
   "source": [
    "#Showing the output of different algorithms\n",
    "\n",
    "t2=Label(root,font=(\"Arial\",15,\"bold\"),text=\"Random Forest\",height=1,bg=\"Ivory\"\n",
    "         ,width=40,fg=\"Dark Orange\",textvariable=pred2,relief=\"sunken\").grid(row=17, column=1, padx=10)"
   ]
  },
  {
   "cell_type": "code",
   "execution_count": 39,
   "metadata": {},
   "outputs": [
    {
     "name": "stdout",
     "output_type": "stream",
     "text": [
      "drsdrs\n",
      "clf4\n",
      "Random Forest\n",
      "Accuracy\n",
      "0.9230769230769231\n",
      "36\n",
      "Confusion matrix\n",
      "[ 18 114   3 114   2   1  21  24  18 114 114 114 114]\n",
      "13\n",
      "13\n"
     ]
    },
    {
     "data": {
      "image/png": "[encoded data removed]",
      "text/plain": [
       "<Figure size 2520x720 with 1 Axes>"
      ]
     },
     "metadata": {
      "needs_background": "light"
     },
     "output_type": "display_data"
    },
    {
     "name": "stdout",
     "output_type": "stream",
     "text": [
      "drsdrs\n"
     ]
    }
   ],
   "source": [
    "#calling this function because the application is ready to run\n",
    "root.mainloop()"
   ]
  },
  {
   "cell_type": "code",
   "execution_count": null,
   "metadata": {},
   "outputs": [],
   "source": []
  },
  {
   "cell_type": "code",
   "execution_count": null,
   "metadata": {},
   "outputs": [],
   "source": []
  },
  {
   "cell_type": "code",
   "execution_count": null,
   "metadata": {},
   "outputs": [],
   "source": []
  }
 ],
 "metadata": {
  "kernelspec": {
   "display_name": "Python 3",
   "language": "python",
   "name": "python3"
  },
  "language_info": {
   "codemirror_mode": {
    "name": "ipython",
    "version": 3
   },
   "file_extension": ".py",
   "mimetype": "text/x-python",
   "name": "python",
   "nbconvert_exporter": "python",
   "pygments_lexer": "ipython3",
   "version": "3.7.6"
  }
 },
 "nbformat": 4,
 "nbformat_minor": 2
}
